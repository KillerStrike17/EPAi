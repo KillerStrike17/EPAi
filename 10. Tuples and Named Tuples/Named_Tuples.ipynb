{
  "nbformat": 4,
  "nbformat_minor": 0,
  "metadata": {
    "colab": {
      "name": "Named Tuples.ipynb",
      "provenance": [],
      "collapsed_sections": [],
      "authorship_tag": "ABX9TyPXcc7jPc5UhLvW905kb83/",
      "include_colab_link": true
    },
    "kernelspec": {
      "name": "python3",
      "display_name": "Python 3"
    }
  },
  "cells": [
    {
      "cell_type": "markdown",
      "metadata": {
        "id": "view-in-github",
        "colab_type": "text"
      },
      "source": [
        "<a href=\"https://colab.research.google.com/github/KillerStrike17/EPAi/blob/master/10.%20Tuples%20and%20Named%20Tuples/Named_Tuples.ipynb\" target=\"_parent\"><img src=\"https://colab.research.google.com/assets/colab-badge.svg\" alt=\"Open In Colab\"/></a>"
      ]
    },
    {
      "cell_type": "code",
      "metadata": {
        "id": "mA-5RAwowZOu",
        "outputId": "f9c5902b-9e04-45a5-f114-06700d09acea",
        "colab": {
          "base_uri": "https://localhost:8080/",
          "height": 85
        }
      },
      "source": [
        "!pip install Faker"
      ],
      "execution_count": null,
      "outputs": [
        {
          "output_type": "stream",
          "text": [
            "Requirement already satisfied: Faker in /usr/local/lib/python3.6/dist-packages (4.1.4)\n",
            "Requirement already satisfied: python-dateutil>=2.4 in /usr/local/lib/python3.6/dist-packages (from Faker) (2.8.1)\n",
            "Requirement already satisfied: text-unidecode==1.3 in /usr/local/lib/python3.6/dist-packages (from Faker) (1.3)\n",
            "Requirement already satisfied: six>=1.5 in /usr/local/lib/python3.6/dist-packages (from python-dateutil>=2.4->Faker) (1.15.0)\n"
          ],
          "name": "stdout"
        }
      ]
    },
    {
      "cell_type": "code",
      "metadata": {
        "id": "bb-2_qfmwhNl"
      },
      "source": [
        "from faker import Faker\n",
        "import pandas as pd\n",
        "from collections import namedtuple\n",
        "import functools\n",
        "from datetime import date,datetime\n",
        "from decimal import Decimal\n",
        "from statistics import mode\n",
        "import string\n",
        "import random\n",
        "fake = Faker()"
      ],
      "execution_count": null,
      "outputs": []
    },
    {
      "cell_type": "markdown",
      "metadata": {
        "id": "LIxoemS-Amgw"
      },
      "source": [
        "## Task 1"
      ]
    },
    {
      "cell_type": "code",
      "metadata": {
        "id": "2Q0i4948w8kc"
      },
      "source": [
        "profile = namedtuple('profile',fake.profile().keys())"
      ],
      "execution_count": null,
      "outputs": []
    },
    {
      "cell_type": "code",
      "metadata": {
        "id": "zj23uwUkwq1G",
        "outputId": "6c317be8-d822-4330-ade4-653adf3615e9",
        "colab": {
          "base_uri": "https://localhost:8080/",
          "height": 238
        }
      },
      "source": [
        "fake.profile()"
      ],
      "execution_count": null,
      "outputs": [
        {
          "output_type": "execute_result",
          "data": {
            "text/plain": [
              "{'address': '2155 Robertson Springs\\nLaurenview, NH 58860',\n",
              " 'birthdate': datetime.date(2013, 12, 24),\n",
              " 'blood_group': 'O+',\n",
              " 'company': 'Lane LLC',\n",
              " 'current_location': (Decimal('-36.661708'), Decimal('46.492900')),\n",
              " 'job': 'Building control surveyor',\n",
              " 'mail': 'james41@hotmail.com',\n",
              " 'name': 'Jonathan Thomas',\n",
              " 'residence': '2320 Kristen Roads Apt. 886\\nNorth Andrewland, AK 14732',\n",
              " 'sex': 'M',\n",
              " 'ssn': '153-16-8968',\n",
              " 'username': 'belljames',\n",
              " 'website': ['http://taylor.com/', 'https://www.bridges.info/']}"
            ]
          },
          "metadata": {
            "tags": []
          },
          "execution_count": 4
        }
      ]
    },
    {
      "cell_type": "code",
      "metadata": {
        "id": "wNKmm2KIx3nv"
      },
      "source": [
        "allprofiles = namedtuple('allprofile',['profile'])"
      ],
      "execution_count": null,
      "outputs": []
    },
    {
      "cell_type": "code",
      "metadata": {
        "id": "-7T2YHmsTnJd",
        "outputId": "bc6ec26e-ee91-43a2-97c1-3b16162b776c",
        "colab": {
          "base_uri": "https://localhost:8080/",
          "height": 71
        }
      },
      "source": [
        "p1 = profile(**fake.profile())\n",
        "mylist = []\n",
        "p2 = allprofiles(p1)\n",
        "print(p1)\n",
        "\n",
        "print(p2)"
      ],
      "execution_count": null,
      "outputs": [
        {
          "output_type": "stream",
          "text": [
            "profile(job='Conservator, museum/gallery', company='Blanchard, Vega and Adams', ssn='188-40-7207', residence='027 Heather Extension Suite 840\\nSouth Vanessashire, ND 44121', current_location=(Decimal('-42.650752'), Decimal('-113.230308')), blood_group='O-', website=['https://nelson.com/'], username='yrogers', name='Charles Lam', sex='M', address='02378 Price Tunnel\\nDouglasmouth, MT 44252', mail='allenjoseph@gmail.com', birthdate=datetime.date(1946, 5, 5))\n",
            "allprofile(profile=profile(job='Conservator, museum/gallery', company='Blanchard, Vega and Adams', ssn='188-40-7207', residence='027 Heather Extension Suite 840\\nSouth Vanessashire, ND 44121', current_location=(Decimal('-42.650752'), Decimal('-113.230308')), blood_group='O-', website=['https://nelson.com/'], username='yrogers', name='Charles Lam', sex='M', address='02378 Price Tunnel\\nDouglasmouth, MT 44252', mail='allenjoseph@gmail.com', birthdate=datetime.date(1946, 5, 5)))\n"
          ],
          "name": "stdout"
        }
      ]
    },
    {
      "cell_type": "code",
      "metadata": {
        "id": "27QNozYWWcu5"
      },
      "source": [
        "for _ in range(9_999):\n",
        "  p1 = profile(**fake.profile())\n",
        "  p2 += allprofiles(p1)\n",
        "  mylist.append(p1)\n",
        "\n"
      ],
      "execution_count": null,
      "outputs": []
    },
    {
      "cell_type": "code",
      "metadata": {
        "id": "rqnl74IdW_k8",
        "outputId": "044d2108-afad-42ee-8841-4bc87a21e131",
        "colab": {
          "base_uri": "https://localhost:8080/",
          "height": 54
        }
      },
      "source": [
        "print(p2[0])"
      ],
      "execution_count": null,
      "outputs": [
        {
          "output_type": "stream",
          "text": [
            "profile(job='Conservator, museum/gallery', company='Blanchard, Vega and Adams', ssn='188-40-7207', residence='027 Heather Extension Suite 840\\nSouth Vanessashire, ND 44121', current_location=(Decimal('-42.650752'), Decimal('-113.230308')), blood_group='O-', website=['https://nelson.com/'], username='yrogers', name='Charles Lam', sex='M', address='02378 Price Tunnel\\nDouglasmouth, MT 44252', mail='allenjoseph@gmail.com', birthdate=datetime.date(1946, 5, 5))\n"
          ],
          "name": "stdout"
        }
      ]
    },
    {
      "cell_type": "code",
      "metadata": {
        "id": "Qzjl_Vkl9w0M",
        "outputId": "069e5c73-a1c0-455f-a14d-7e4421af312f",
        "colab": {
          "base_uri": "https://localhost:8080/",
          "height": 71
        }
      },
      "source": [
        "start = datetime.now()\n",
        "print(min(p2, key=lambda v : v[-1]))\n",
        "end = datetime.now()\n",
        "print(end-start)"
      ],
      "execution_count": null,
      "outputs": [
        {
          "output_type": "stream",
          "text": [
            "profile(job='Advertising account planner', company='Williams-Evans', ssn='376-02-6907', residence='USNS Dunn\\nFPO AP 10707', current_location=(Decimal('71.013377'), Decimal('81.071167')), blood_group='B+', website=['https://simpson.com/', 'https://www.pollard-brown.net/'], username='taylorgonzalez', name='Susan Roman', sex='F', address='6940 Jeffery Village Apt. 237\\nFloresborough, MN 58118', mail='ocruz@gmail.com', birthdate=datetime.date(1904, 10, 2))\n",
            "0:00:00.002918\n"
          ],
          "name": "stdout"
        }
      ]
    },
    {
      "cell_type": "code",
      "metadata": {
        "id": "nbsX7edw9yu4"
      },
      "source": [
        "# mylist[-1]"
      ],
      "execution_count": null,
      "outputs": []
    },
    {
      "cell_type": "code",
      "metadata": {
        "id": "y34T6XQ1-LWQ"
      },
      "source": [
        "# min(mylist, key=lambda v : v[-1])"
      ],
      "execution_count": null,
      "outputs": []
    },
    {
      "cell_type": "code",
      "metadata": {
        "id": "DWqxrMk0-VV1"
      },
      "source": [
        "# p2[-1]"
      ],
      "execution_count": null,
      "outputs": []
    },
    {
      "cell_type": "code",
      "metadata": {
        "id": "DnbZ1ubR-ayL"
      },
      "source": [
        "today = date.today() "
      ],
      "execution_count": null,
      "outputs": []
    },
    {
      "cell_type": "code",
      "metadata": {
        "id": "_XkSz6KlBT4S",
        "outputId": "9c76e7e2-63a8-42ba-8b96-abd7d3206c43",
        "colab": {
          "base_uri": "https://localhost:8080/",
          "height": 51
        }
      },
      "source": [
        "start = datetime.now()\n",
        "print(sum(map(lambda v : today.year - v[-1].year -((today.month, today.day) < (v[-1].month, v[-1].day)),p2))/len(p2))\n",
        "end = datetime.now()\n",
        "print(end-start)"
      ],
      "execution_count": null,
      "outputs": [
        {
          "output_type": "stream",
          "text": [
            "56.9608\n",
            "0:00:00.012075\n"
          ],
          "name": "stdout"
        }
      ]
    },
    {
      "cell_type": "code",
      "metadata": {
        "id": "MpaioIXYD_zZ",
        "outputId": "4532810f-769b-434a-a53f-250cc16cf10d",
        "colab": {
          "base_uri": "https://localhost:8080/",
          "height": 35
        }
      },
      "source": [
        "p2[0][5]"
      ],
      "execution_count": null,
      "outputs": [
        {
          "output_type": "execute_result",
          "data": {
            "application/vnd.google.colaboratory.intrinsic+json": {
              "type": "string"
            },
            "text/plain": [
              "'O-'"
            ]
          },
          "metadata": {
            "tags": []
          },
          "execution_count": 15
        }
      ]
    },
    {
      "cell_type": "code",
      "metadata": {
        "id": "3-FJ8lRaEVN9",
        "outputId": "b0bb9ea5-582d-45a5-e876-512368b8364f",
        "colab": {
          "base_uri": "https://localhost:8080/",
          "height": 51
        }
      },
      "source": [
        "start = datetime.now()\n",
        "print(sum(map(lambda t: t[0],map(lambda v : v[4],p2)))/len(p2),sum(map(lambda t: t[1],map(lambda v : v[4],p2)))/len(p2))\n",
        "end = datetime.now()\n",
        "print(end-start)"
      ],
      "execution_count": null,
      "outputs": [
        {
          "output_type": "stream",
          "text": [
            "0.4332633477 1.1312301153\n",
            "0:00:00.011210\n"
          ],
          "name": "stdout"
        }
      ]
    },
    {
      "cell_type": "code",
      "metadata": {
        "id": "wZjNNFuirjNI"
      },
      "source": [
        "# list(map(lambda v: v[5],p2))"
      ],
      "execution_count": null,
      "outputs": []
    },
    {
      "cell_type": "code",
      "metadata": {
        "id": "4AsuAxhHppu2",
        "outputId": "d7ff3cea-543a-46f7-bd2a-9c2a6b1c0fc5",
        "colab": {
          "base_uri": "https://localhost:8080/",
          "height": 51
        }
      },
      "source": [
        "start = datetime.now()\n",
        "print(mode(list(map(lambda v: v[5],p2))))\n",
        "end = datetime.now()\n",
        "print(end-start)"
      ],
      "execution_count": null,
      "outputs": [
        {
          "output_type": "stream",
          "text": [
            "O+\n",
            "0:00:00.006411\n"
          ],
          "name": "stdout"
        }
      ]
    },
    {
      "cell_type": "markdown",
      "metadata": {
        "id": "wggr7rruAok-"
      },
      "source": [
        "## Task 2"
      ]
    },
    {
      "cell_type": "code",
      "metadata": {
        "id": "Ngpu1V5GApuH",
        "outputId": "e5d81eb6-cd74-43da-d8de-4fa2c151d3e4",
        "colab": {
          "base_uri": "https://localhost:8080/",
          "height": 238
        }
      },
      "source": [
        "fake.profile()"
      ],
      "execution_count": null,
      "outputs": [
        {
          "output_type": "execute_result",
          "data": {
            "text/plain": [
              "{'address': 'USS Sullivan\\nFPO AE 91969',\n",
              " 'birthdate': datetime.date(1906, 1, 7),\n",
              " 'blood_group': 'AB-',\n",
              " 'company': 'Allen-Wagner',\n",
              " 'current_location': (Decimal('-12.837155'), Decimal('-131.701690')),\n",
              " 'job': 'Leisure centre manager',\n",
              " 'mail': 'donna58@yahoo.com',\n",
              " 'name': 'Roy Doyle',\n",
              " 'residence': '92710 Morgan Plain\\nMorsechester, OR 75132',\n",
              " 'sex': 'M',\n",
              " 'ssn': '490-39-6390',\n",
              " 'username': 'michaelmcbride',\n",
              " 'website': ['http://lewis.biz/', 'https://www.meyer-smith.com/']}"
            ]
          },
          "metadata": {
            "tags": []
          },
          "execution_count": 19
        }
      ]
    },
    {
      "cell_type": "code",
      "metadata": {
        "id": "Wjv5TZLQfXB5"
      },
      "source": [
        "all_profile_dict = {}"
      ],
      "execution_count": null,
      "outputs": []
    },
    {
      "cell_type": "code",
      "metadata": {
        "id": "co02jhALe_v7"
      },
      "source": [
        "for _ in range(10_000):\n",
        "  all_profile_dict[_+1] = fake.profile()"
      ],
      "execution_count": null,
      "outputs": []
    },
    {
      "cell_type": "code",
      "metadata": {
        "id": "dSetqZnzfkHL",
        "outputId": "4ecdec94-41c2-49b4-b99e-07e76e8a1d32",
        "colab": {
          "base_uri": "https://localhost:8080/",
          "height": 289
        }
      },
      "source": [
        "all_profile_dict[10000]"
      ],
      "execution_count": null,
      "outputs": [
        {
          "output_type": "execute_result",
          "data": {
            "text/plain": [
              "{'address': '07613 Craig Union\\nMarkfort, AR 12634',\n",
              " 'birthdate': datetime.date(1918, 10, 27),\n",
              " 'blood_group': 'AB+',\n",
              " 'company': 'Castillo and Sons',\n",
              " 'current_location': (Decimal('18.348345'), Decimal('-37.527694')),\n",
              " 'job': 'Surveyor, insurance',\n",
              " 'mail': 'matthew43@yahoo.com',\n",
              " 'name': 'Emily Marks',\n",
              " 'residence': '835 Kaitlyn Crossing Apt. 052\\nWest Natalie, PA 82835',\n",
              " 'sex': 'F',\n",
              " 'ssn': '366-04-6298',\n",
              " 'username': 'rprice',\n",
              " 'website': ['http://www.porter-richardson.net/',\n",
              "  'http://castro.com/',\n",
              "  'http://www.williams.biz/',\n",
              "  'https://williams.info/']}"
            ]
          },
          "metadata": {
            "tags": []
          },
          "execution_count": 22
        }
      ]
    },
    {
      "cell_type": "code",
      "metadata": {
        "id": "nHC0Fa8tmlOa",
        "outputId": "73d743a3-107e-4d63-845f-f0a3bdf8e4c4",
        "colab": {
          "base_uri": "https://localhost:8080/",
          "height": 34
        }
      },
      "source": [
        "len(all_profile_dict)"
      ],
      "execution_count": null,
      "outputs": [
        {
          "output_type": "execute_result",
          "data": {
            "text/plain": [
              "10000"
            ]
          },
          "metadata": {
            "tags": []
          },
          "execution_count": 23
        }
      ]
    },
    {
      "cell_type": "code",
      "metadata": {
        "id": "kS5M3IAXfngA",
        "outputId": "cf3194b1-5b0f-4a22-a93e-5c1896aaa583",
        "colab": {
          "base_uri": "https://localhost:8080/",
          "height": 71
        }
      },
      "source": [
        "start = datetime.now()\n",
        "print(min(all_profile_dict.values(),key = lambda v : v['birthdate']))\n",
        "end = datetime.now()\n",
        "print(end-start)"
      ],
      "execution_count": null,
      "outputs": [
        {
          "output_type": "stream",
          "text": [
            "{'job': 'Administrator, charities/voluntary organisations', 'company': 'Smith, Coleman and Mitchell', 'ssn': '151-24-0531', 'residence': '97514 Marvin Loaf Suite 224\\nGeraldport, KY 64835', 'current_location': (Decimal('11.7991955'), Decimal('112.582374')), 'blood_group': 'O-', 'website': ['https://walker.org/'], 'username': 'reedsteven', 'name': 'Jason Fisher', 'sex': 'M', 'address': '694 Lee Inlet Suite 876\\nDeniseshire, IN 24411', 'mail': 'bradyvickie@gmail.com', 'birthdate': datetime.date(1904, 10, 5)}\n",
            "0:00:00.006074\n"
          ],
          "name": "stdout"
        }
      ]
    },
    {
      "cell_type": "code",
      "metadata": {
        "id": "--lKpn1fguLk",
        "outputId": "f9046003-6db8-4a2e-a86b-2ff0e8cf45d3",
        "colab": {
          "base_uri": "https://localhost:8080/",
          "height": 54
        }
      },
      "source": [
        "all_profile_dict[1].items()"
      ],
      "execution_count": null,
      "outputs": [
        {
          "output_type": "execute_result",
          "data": {
            "text/plain": [
              "dict_items([('job', 'Advertising art director'), ('company', 'Jimenez, Jackson and Ray'), ('ssn', '635-58-0723'), ('residence', 'Unit 3654 Box 1746\\nDPO AP 10695'), ('current_location', (Decimal('89.0990865'), Decimal('152.681020'))), ('blood_group', 'O-'), ('website', ['http://baker.com/', 'http://carr.org/', 'https://miller-taylor.com/', 'http://morton.net/']), ('username', 'brownstephanie'), ('name', 'Rebecca Young'), ('sex', 'F'), ('address', '54481 Baldwin Mount Suite 673\\nPort Ericmouth, KS 47744'), ('mail', 'knappmarvin@yahoo.com'), ('birthdate', datetime.date(2013, 2, 14))])"
            ]
          },
          "metadata": {
            "tags": []
          },
          "execution_count": 25
        }
      ]
    },
    {
      "cell_type": "code",
      "metadata": {
        "id": "GQjHNqAvkKhE",
        "outputId": "13a647e6-3a07-4a02-9473-8fa60831e6b8",
        "colab": {
          "base_uri": "https://localhost:8080/",
          "height": 51
        }
      },
      "source": [
        "start = datetime.now()\n",
        "print(sum(map(lambda v : today.year - v['birthdate'].year -((today.month, today.day) < (v['birthdate'].month, v['birthdate'].day)),all_profile_dict.values()))/len(all_profile_dict))\n",
        "end = datetime.now()\n",
        "print(end-start)"
      ],
      "execution_count": null,
      "outputs": [
        {
          "output_type": "stream",
          "text": [
            "57.4417\n",
            "0:00:00.014202\n"
          ],
          "name": "stdout"
        }
      ]
    },
    {
      "cell_type": "code",
      "metadata": {
        "id": "DESe6-PpnSeF",
        "outputId": "1fb9765a-c953-4e80-e7d2-2bf0b32b88ea",
        "colab": {
          "base_uri": "https://localhost:8080/",
          "height": 51
        }
      },
      "source": [
        "start = datetime.now()\n",
        "print(sum(map(lambda t: t[0],map(lambda v : v['current_location'],all_profile_dict.values())))/len(all_profile_dict.values()),sum(map(lambda t: t[1],map(lambda v : v['current_location'],all_profile_dict.values())))/len(all_profile_dict.values()))\n",
        "end = datetime.now()\n",
        "print(end-start)"
      ],
      "execution_count": null,
      "outputs": [
        {
          "output_type": "stream",
          "text": [
            "0.3320260682 -0.2965038148\n",
            "0:00:00.016786\n"
          ],
          "name": "stdout"
        }
      ]
    },
    {
      "cell_type": "code",
      "metadata": {
        "id": "8rFLafn7nb7Z",
        "outputId": "e4d0771b-d843-4987-b5c7-502d57f87679",
        "colab": {
          "base_uri": "https://localhost:8080/",
          "height": 51
        }
      },
      "source": [
        "start = datetime.now()\n",
        "print(mode(list(map(lambda v: v['blood_group'],all_profile_dict.values()))))\n",
        "end = datetime.now()\n",
        "print(end-start)"
      ],
      "execution_count": null,
      "outputs": [
        {
          "output_type": "stream",
          "text": [
            "AB+\n",
            "0:00:00.007876\n"
          ],
          "name": "stdout"
        }
      ]
    },
    {
      "cell_type": "markdown",
      "metadata": {
        "id": "NOGgzROmoe22"
      },
      "source": [
        "## Task 3"
      ]
    },
    {
      "cell_type": "code",
      "metadata": {
        "id": "MEd_AiSnohig",
        "outputId": "312e55af-7388-49a7-a859-3beba029153b",
        "colab": {
          "base_uri": "https://localhost:8080/",
          "height": 35
        }
      },
      "source": [
        "fake.company()"
      ],
      "execution_count": null,
      "outputs": [
        {
          "output_type": "execute_result",
          "data": {
            "application/vnd.google.colaboratory.intrinsic+json": {
              "type": "string"
            },
            "text/plain": [
              "'Ramos, Allen and Richard'"
            ]
          },
          "metadata": {
            "tags": []
          },
          "execution_count": 29
        }
      ]
    },
    {
      "cell_type": "code",
      "metadata": {
        "id": "6nVNHpN7vGxB"
      },
      "source": [
        "Company = namedtuple('Company', 'name symbol open high low close')\n",
        "allcompany = namedtuple('allcompany',['Company'])"
      ],
      "execution_count": null,
      "outputs": []
    },
    {
      "cell_type": "code",
      "metadata": {
        "id": "GNzyUCxC5CX7"
      },
      "source": [
        "random_weight  =  namedtuple('random_weight','weight')"
      ],
      "execution_count": null,
      "outputs": []
    },
    {
      "cell_type": "code",
      "metadata": {
        "id": "hTS9wm9A5QWq",
        "outputId": "18aff9db-508d-4cfd-f03a-aa47b42c2fcc",
        "colab": {
          "base_uri": "https://localhost:8080/",
          "height": 122
        }
      },
      "source": [
        "weight = random.uniform(0,1)\n",
        "r1  = random_weight(weight)\n",
        "\n",
        "for _ in range(99):\n",
        "  weight = random.uniform(0,1)\n",
        "  r1 += weight,\n",
        "print(r1)\n",
        "print(sum(r1))\n",
        "sum_value = sum(r1)\n",
        "r2 = tuple(map(lambda x: x/sum_value,r1))\n",
        "print(len(r2))\n",
        "print(r2[0])\n",
        "print(r2)"
      ],
      "execution_count": null,
      "outputs": [
        {
          "output_type": "stream",
          "text": [
            "(0.8767216410065176, 0.010125389410229668, 0.5646491865338871, 0.15363951103404017, 0.7194410374577397, 0.4187724142102114, 0.47143359219546077, 0.6774121584949299, 0.19557952259734346, 0.7589888837111147, 0.6200955200528396, 0.11477937931537607, 0.5965407352596361, 0.05969011265518809, 0.9478847722637351, 0.7674857102633286, 0.7757784388016338, 0.9066864461728574, 0.8607117091783921, 0.6657982239749742, 0.28111468839778453, 0.8139552357343531, 0.4241213721099675, 0.10221908310269379, 0.8604967954717762, 0.05531055885922109, 0.04474471444832728, 0.8939942975323463, 0.7448966564214647, 0.5800041802200636, 0.3888541500255952, 0.5231641394628627, 0.8271339570351031, 0.41311911328300954, 0.2861047008562826, 0.1637975826542828, 0.5149617503140121, 0.2749129118471001, 0.2851884940502897, 0.6049170102492184, 0.5468916243377815, 0.40289089042272785, 0.7384280142700872, 0.023042526644241, 0.45005905059587836, 0.5113978406613692, 0.7187615194349065, 0.6020839833194492, 0.4256951244269426, 0.8576416037893438, 0.6429967399293426, 0.5749750414665834, 0.6451302730050896, 0.9360308560660919, 0.7363872116487595, 0.044168206788808284, 0.33425463803230104, 0.3607993223227669, 0.6889997202117774, 0.6608463341204147, 0.9687634763140974, 0.644410294191338, 0.06123898664819449, 0.5189823424936275, 0.39286636494469085, 0.9259011950471753, 0.4272719009075443, 0.928987171687314, 0.7910599898418316, 0.8022386914346405, 0.9213924359037383, 0.12552354422530654, 0.8888623381303418, 0.9694532787819768, 0.8655053401815511, 0.18941031269758235, 0.6534979008386509, 0.9117201348050598, 0.13135218590909603, 0.7289218248530026, 0.4119429219728834, 0.6089333892472775, 0.5445766936667049, 0.27088685860898665, 0.16057911428386817, 0.8668951897721079, 0.29201061632293546, 0.7936101890339257, 0.23892879977364845, 0.36846152230520035, 0.9814359593208128, 0.7325754143497182, 0.6397461706130687, 0.3894488843102111, 0.13129299679981432, 0.7663108841768095, 0.07032538268479638, 0.024393524805747746, 0.4810556320242747, 0.3556002223619381)\n",
            "53.12307637443133\n",
            "100\n",
            "0.01650359318099455\n",
            "(0.01650359318099455, 0.00019060246697427937, 0.010629075442732802, 0.0028921425775708352, 0.013542909909562653, 0.007883060296782261, 0.008874365424031928, 0.012751749422798397, 0.003681630205653486, 0.014287366913043156, 0.011672808925487941, 0.002160631257617086, 0.011229408685878689, 0.0011236192767615683, 0.017843182981021062, 0.014447312969109732, 0.014603417041092593, 0.017067656996785953, 0.016202218845756858, 0.01253312626855755, 0.0052917622167884815, 0.015322065122834603, 0.007983750209054183, 0.001924193591165832, 0.01619817326479123, 0.0010411776319084304, 0.0008422839470543797, 0.016828737312409015, 0.014022091852722426, 0.010918121084177751, 0.007319872578252163, 0.009848152162261951, 0.015570144153647152, 0.007776641367137539, 0.005385695264327494, 0.003083360261363181, 0.009693748658010109, 0.005175018666264939, 0.005368448394068416, 0.011387085453890826, 0.010294803344653547, 0.007584103141598993, 0.013900324767815971, 0.0004337573841136128, 0.008472006542386471, 0.009626660870632676, 0.01353011851890516, 0.011333755957123716, 0.008013374854770909, 0.01614442653404266, 0.012103906321186313, 0.010823451515005345, 0.012144068398034218, 0.01762004236103715, 0.013861908268610553, 0.000831431645213734, 0.006292079842597015, 0.006791762581287993, 0.012969876129828202, 0.01243991084895992, 0.018236208112005596, 0.012130515364910215, 0.001152775607657945, 0.00976943313364696, 0.007395399358569177, 0.01742935948439953, 0.008043056427981919, 0.017487450559893494, 0.014891080182671362, 0.015101510420446322, 0.017344485650819984, 0.0023628816851751886, 0.016732132225651, 0.018249193099226922, 0.016292455167339057, 0.0035654996966393206, 0.012301582390156645, 0.017162412213835566, 0.0024726012662233013, 0.013721378252179688, 0.0077545004937092776, 0.011462690619708976, 0.010251226601191628, 0.005099231390510495, 0.0030227751335793595, 0.016318617989325507, 0.0054968694633709715, 0.01493908567042059, 0.004497646147026366, 0.006935997450677472, 0.018474757606342013, 0.013790154191866685, 0.012042716918423516, 0.007331067981929916, 0.0024714870779397663, 0.014425197794938747, 0.0013238198441128815, 0.0004591888586009788, 0.009055492732266003, 0.006693893626482296)\n"
          ],
          "name": "stdout"
        }
      ]
    },
    {
      "cell_type": "code",
      "metadata": {
        "id": "vK6sgqaE4GyH",
        "outputId": "e50325ee-1c32-4558-b2b9-e638cf724f7a",
        "colab": {
          "base_uri": "https://localhost:8080/",
          "height": 34
        }
      },
      "source": [
        "random.uniform(0,1)"
      ],
      "execution_count": null,
      "outputs": [
        {
          "output_type": "execute_result",
          "data": {
            "text/plain": [
              "0.07249172213541111"
            ]
          },
          "metadata": {
            "tags": []
          },
          "execution_count": 33
        }
      ]
    },
    {
      "cell_type": "code",
      "metadata": {
        "id": "npxAFcVEAXAf"
      },
      "source": [
        "open = random.randint(1000,50000) * weight\n",
        "close = open * random.uniform(0.7,1.15)\n",
        "high = open * random.uniform(0.85,1.15)\n",
        "low = open * random.uniform(0.7,1)\n",
        "if high < open:\n",
        "  high = open\n",
        "if high < close:\n",
        "  high = close\n",
        "if low > high:\n",
        "  if high>open:\n",
        "    low = open\n",
        "  else:\n",
        "    low = close\n",
        "elif low>close:\n",
        "  low = close\n",
        "\n",
        "c1 = Company(fake.company(),''.join(random.sample(string.ascii_uppercase, 3)),open, high, low, close)\n",
        "c2 = allcompany(c1)"
      ],
      "execution_count": null,
      "outputs": []
    },
    {
      "cell_type": "code",
      "metadata": {
        "id": "WZp-KKmE3KeD",
        "outputId": "0b3b71ea-4c23-49dd-f58a-a79e94e2ae68",
        "colab": {
          "base_uri": "https://localhost:8080/",
          "height": 1000
        }
      },
      "source": [
        "for _ in range(99):\n",
        "  weight = r2[_+1]\n",
        "  open = random.randint(1000,50000) * weight\n",
        "  close = open * random.uniform(0.7,1.15)\n",
        "  high = open * random.uniform(0.85,1.15)\n",
        "  low = open * random.uniform(0.7,1)\n",
        "  if high < open:\n",
        "    high = open\n",
        "  if high < close:\n",
        "    high = close\n",
        "  if low > high:\n",
        "    if high>open:\n",
        "      low = open\n",
        "    else:\n",
        "      low = close\n",
        "  elif low>close:\n",
        "    low = close\n",
        "  c1 = Company(fake.company(),''.join(random.sample(string.ascii_uppercase, 3)),open, high, low, close)\n",
        "  c2 += allcompany(c1)\n",
        "  print(c1)\n",
        "  # break"
      ],
      "execution_count": null,
      "outputs": [
        {
          "output_type": "stream",
          "text": [
            "Company(name='Gill PLC', symbol='QKW', open=4.3545039604943865, high=4.41920040005122, low=3.22033944725294, close=3.506066317410597)\n",
            "Company(name='White-Shepherd', symbol='MVW', open=238.42079125593946, high=243.49453368242186, low=196.98749212525624, close=196.98749212525624)\n",
            "Company(name='Harris and Sons', symbol='SLF', open=118.88152065104919, high=118.88152065104919, low=91.65311152802143, close=91.65311152802143)\n",
            "Company(name='Cole-Price', symbol='XYS', open=313.11207710908855, high=313.11207710908855, low=260.93535431369355, close=260.93535431369355)\n",
            "Company(name='Mcclain-Chavez', symbol='HMI', open=222.6333889017246, high=222.6333889017246, low=210.18930549316937, close=215.21425192582558)\n",
            "Company(name='Mitchell Group', symbol='SZP', open=298.1431807857767, high=298.1431807857767, low=252.4240216401425, close=252.4240216401425)\n",
            "Company(name='Perez, Wolfe and Hodges', symbol='SHQ', open=583.4690465895634, high=648.3646965654427, low=509.0650351920403, close=528.8115311685665)\n",
            "Company(name='Olson, Wilson and Johnson', symbol='RJX', open=30.53544092569001, high=34.930529953370815, low=25.84002242792313, close=34.930529953370815)\n",
            "Company(name='Perez, Wallace and Bennett', symbol='KYT', open=512.5878627392493, high=517.0372185087053, low=479.423840272928, close=517.0372185087053)\n",
            "Company(name='Smith, Huber and Henry', symbol='VJY', open=35.00675396753834, high=39.665751328060765, low=25.838501590816584, close=28.287113026321432)\n",
            "Company(name='Gross, Browning and Bond', symbol='FOV', open=10.20250079846788, high=10.20250079846788, low=7.407364044100982, close=8.438689766194756)\n",
            "Company(name='Allison, Reynolds and Martin', symbol='WZY', open=440.10298521695756, high=440.10298521695756, low=414.11829114254954, close=436.41663887848665)\n",
            "Company(name='Watson LLC', symbol='CFE', open=20.348745102152, high=21.774497475916785, low=15.162618575719994, close=20.242459630355835)\n",
            "Company(name='Mcpherson, Fowler and Huff', symbol='ZWM', open=742.7224915850018, high=851.2860211043554, low=655.4932223616538, close=851.2860211043554)\n",
            "Company(name='Montoya-Bell', symbol='CEU', open=80.22592891746635, high=80.22592891746635, low=78.87518937352813, close=80.17185454066971)\n",
            "Company(name='Myers-Gardner', symbol='DHA', open=499.10098421342155, high=542.2540064078836, low=485.2541615345629, close=540.3213248316957)\n",
            "Company(name='Johnson LLC', symbol='TVE', open=89.07610186622588, high=91.17539460527321, low=65.79768553381963, close=91.17539460527321)\n",
            "Company(name='Perez-Obrien', symbol='ZXT', open=518.6006208149855, high=573.5102667238547, low=416.0233034565995, close=416.0552581556419)\n",
            "Company(name='Blackburn and Sons', symbol='JKO', open=198.71271698797995, high=225.9617815741037, low=139.26149154105306, close=139.26149154105306)\n",
            "Company(name='Wright PLC', symbol='TAW', open=58.177633811372566, high=61.804224091544455, low=49.39721618525389, close=61.804224091544455)\n",
            "Company(name='Cole-Meyer', symbol='EOG', open=480.71447116381285, high=504.1429061641018, low=455.7427071145783, close=497.7038701820676)\n",
            "Company(name='Romero and Sons', symbol='MIF', open=141.82333871363852, high=142.43736286545976, low=103.92287522592711, close=136.68780603889806)\n",
            "Company(name='Carrillo, Wells and Silva', symbol='RDF', open=95.47848599364859, high=98.97357732981607, low=85.5359491921185, close=89.2252075606077)\n",
            "Company(name='Weaver-Bates', symbol='KCT', open=165.1403764345466, high=171.93493761523897, low=126.23473934814183, close=126.23473934814183)\n",
            "Company(name='Richard-Tate', symbol='FEG', open=11.679930674748773, high=12.754578662268132, low=10.647261360668185, close=12.754578662268132)\n",
            "Company(name='Murphy, Taylor and Mejia', symbol='RYQ', open=34.421618064271335, high=37.494651432595, low=29.801867283113985, close=37.494651432595)\n",
            "Company(name='Cabrera Ltd', symbol='CZN', open=322.50592185500636, high=369.8942428713357, low=233.38262993951437, close=323.77894088040085)\n",
            "Company(name='Brady, Price and White', symbol='RNB', open=350.2157661135953, high=350.2157661135953, low=303.2994765286111, close=303.2994765286111)\n",
            "Company(name='Carroll-Heath', symbol='FPB', open=456.72684119332365, high=456.72684119332365, low=379.01313324033225, close=379.01313324033225)\n",
            "Company(name='Martin-Gray', symbol='RAH', open=276.1202333968281, high=310.3771476256084, low=195.26572399926863, close=267.16044878615406)\n",
            "Company(name='Carpenter LLC', symbol='PHQ', open=405.5272097376226, high=405.5272097376226, low=290.163757037233, close=294.11041644320414)\n",
            "Company(name='Wood-Leonard', symbol='VDP', open=29.069459134859233, high=29.91165264703952, low=21.628244853111646, close=28.669356042605003)\n",
            "Company(name='Nguyen-Black', symbol='SXO', open=364.7400334014849, high=381.53839258523766, low=306.1588548016968, close=381.53839258523766)\n",
            "Company(name='Lambert Inc', symbol='GOQ', open=112.30251765175692, high=112.30251765175692, low=99.43646669169935, close=107.7424954309772)\n",
            "Company(name='Pollard-Murphy', symbol='ZDL', open=52.32462363533318, high=52.32462363533318, low=38.95930374902826, close=38.95930374902826)\n",
            "Company(name='Cohen, Duke and Dudley', symbol='UKG', open=82.43563858771796, high=89.32628535920011, low=75.02107829427555, close=81.80135214023754)\n",
            "Company(name='Green-Bell', symbol='PUZ', open=211.75141378622877, high=217.09060141204668, low=185.36841264712632, close=185.36841264712632)\n",
            "Company(name='Brock LLC', symbol='PMJ', open=203.89367000671845, high=203.89367000671845, low=151.3070916910433, close=182.86367346975862)\n",
            "Company(name='Solis-Page', symbol='KVS', open=333.82379716626343, high=369.8588289314181, low=256.78358661204453, close=298.5063037416579)\n",
            "Company(name='Martinez Inc', symbol='PRH', open=413.10986861425755, high=462.7830715402665, low=298.4239803268543, close=462.7830715402665)\n",
            "Company(name='Clark-Gutierrez', symbol='RPF', open=273.4600069766349, high=291.47556541261395, low=222.58947885309155, close=255.8226190022549)\n",
            "Company(name='Johnson, Coleman and Gutierrez', symbol='MWT', open=344.18594157589126, high=344.18594157589126, low=259.73840807145024, close=259.73840807145024)\n",
            "Company(name='White LLC', symbol='AQU', open=18.08941794707411, high=19.357385195753185, low=14.025821545959886, close=19.357385195753185)\n",
            "Company(name='Bailey-Morris', symbol='PUV', open=115.74455338208398, high=132.62980803486712, low=88.96371368316093, close=126.37954370800132)\n",
            "Company(name='Wright-Foster', symbol='SFB', open=149.94486972097457, high=149.94486972097457, low=105.4570395038215, close=105.4570395038215)\n",
            "Company(name='Ferrell-Weeks', symbol='ZPL', open=112.15115240320488, high=121.67844150037985, low=93.9765801699981, close=110.40279253615178)\n",
            "Company(name='Leach-Smith', symbol='TRU', open=327.2508695059902, high=327.2508695059902, low=268.1627249782362, close=302.2428731130251)\n",
            "Company(name='Strong, Goodman and Holder', symbol='PVH', open=76.39150249053107, high=76.39150249053107, low=69.04086954436684, close=69.04086954436684)\n",
            "Company(name='Rodriguez Group', symbol='CEW', open=667.7657703010725, high=684.1191913544108, low=510.7062656042447, close=510.7062656042447)\n",
            "Company(name='Lamb, Vance and Martinez', symbol='VQA', open=230.49468807435096, high=230.49468807435096, low=183.26287216951445, close=183.26287216951445)\n",
            "Company(name='Smith LLC', symbol='MWB', open=288.18522003853235, high=312.45648727776717, low=206.40121616070473, close=206.40121616070473)\n",
            "Company(name='Arellano, Price and Clayton', symbol='QSW', open=321.22275319640306, high=321.22275319640306, low=251.80447076243095, close=288.3977378533904)\n",
            "Company(name='Hall LLC', symbol='ZHR', open=54.93929208171384, high=57.77081821305069, low=53.916770965144444, close=57.77081821305069)\n",
            "Company(name='White, Bautista and Pope', symbol='VHS', open=678.6235811980982, high=687.7349609220793, low=506.47893475582293, close=506.47893475582293)\n",
            "Company(name='Hogan, Harper and Ewing', symbol='ZPH', open=37.250632000510926, high=41.04008516807855, low=31.139069610440238, close=41.04008516807855)\n",
            "Company(name='Walker-Frye', symbol='JAB', open=180.03528053622838, high=198.28890744750953, low=133.2187504147237, close=198.28890744750953)\n",
            "Company(name='Wiggins PLC', symbol='TLF', open=183.58134257221445, high=208.96556057606793, low=164.96282343159297, close=164.96282343159297)\n",
            "Company(name='Maynard, Martin and Hughes', symbol='QBI', open=287.64591280732986, high=330.587058577953, low=230.94834845788972, close=308.3835036627997)\n",
            "Company(name='Mason LLC', symbol='FGV', open=337.51966115398056, high=364.9521675423268, low=302.14306590907046, close=364.9521675423268)\n",
            "Company(name='Gray LLC', symbol='LQW', open=298.45378196108356, high=325.5959471042694, low=228.67039239648895, close=325.5959471042694)\n",
            "Company(name='Henderson, Conley and Ellis', symbol='XQN', open=36.452198671555195, high=36.452198671555195, low=27.864208803796956, close=33.06627209516436)\n",
            "Company(name='Kelly-Thomas', symbol='GHR', open=33.43856205133401, high=36.19365593467866, low=25.926583931741444, close=36.19365593467866)\n",
            "Company(name='Patrick LLC', symbol='IFW', open=215.93378055299877, high=239.63707259697884, low=163.00371065003645, close=239.63707259697884)\n",
            "Company(name='Miller-Reynolds', symbol='VJZ', open=279.7309807378791, high=301.44245119224286, low=248.36333346262325, close=248.36333346262325)\n",
            "Company(name='Boyd-Anderson', symbol='OXY', open=66.99845785803178, high=67.3697709261685, low=57.368498292083174, close=57.368498292083174)\n",
            "Company(name='Williams, Mason and Pope', symbol='MNE', open=178.13761376694353, high=178.13761376694353, low=132.97333667151375, close=155.58316234006116)\n",
            "Company(name='Nguyen, Hudson and Walls', symbol='EBW', open=608.7556414404525, high=608.7556414404525, low=514.9651133540881, close=572.3833034340428)\n",
            "Company(name='Cox, Gomez and Gould', symbol='QKH', open=680.2692159849759, high=704.0550325516363, low=612.911330471654, close=704.0550325516363)\n",
            "Company(name='Smith-Adams', symbol='JHT', open=130.1146137825655, high=147.8207550244673, low=98.03249760862516, close=147.8207550244673)\n",
            "Company(name='Boyer Group', symbol='IDR', open=719.7961545090294, high=776.8819539117701, low=544.1188061578317, close=544.1188061578317)\n",
            "Company(name='Brown-Clark', symbol='CKL', open=67.424828886474, high=67.74140814997897, low=49.71625484296816, close=67.42528652361922)\n",
            "Company(name='Barton Ltd', symbol='XTW', open=337.3867141980268, high=361.5193923829196, low=307.88156167378037, close=361.5193923829196)\n",
            "Company(name='Reyes-Miller', symbol='SQZ', open=883.6806774438653, high=883.6806774438653, low=637.3238652116787, close=864.7468947680743)\n",
            "Company(name='Savage-Frey', symbol='UBV', open=631.2511754585518, high=631.2511754585518, low=480.4177274146652, close=480.4177274146652)\n",
            "Company(name='Miller, Park and Castaneda', symbol='BNZ', open=92.9811010889602, high=103.18683808474823, low=78.45108006778185, close=93.70533306122033)\n",
            "Company(name='Park Group', symbol='EDQ', open=444.1609337789958, high=503.599109524602, low=324.4429401680107, close=396.9264424131074)\n",
            "Company(name='Sanders PLC', symbol='KDT', open=400.07299111672086, high=400.6705248068966, low=371.10917778222597, close=400.6705248068966)\n",
            "Company(name='Brown Inc', symbol='UGY', open=93.76351261645381, high=97.75728314630729, low=79.12027510850938, close=79.12027510850938)\n",
            "Company(name='Hill LLC', symbol='ZKY', open=34.179953226179606, high=36.86844781805403, low=31.143721317147925, close=36.86844781805403)\n",
            "Company(name='Gonzalez, Alvarez and Huerta', symbol='HMX', open=70.40310998238652, high=76.17031694175512, low=51.08961342839809, close=68.62617803094109)\n",
            "Company(name='Luna, Price and Hobbs', symbol='KFQ', open=472.65258501307994, high=493.99811802188145, low=353.02755259563503, close=353.02755259563503)\n",
            "Company(name='Neal, Williams and Perez', symbol='GPX', open=72.57868433643672, high=75.28929579868559, low=59.4337808652439, close=75.28929579868559)\n",
            "Company(name='Abbott, Bridges and Gonzalez', symbol='NWY', open=197.24336941633644, high=197.24336941633644, low=164.6205666053318, close=184.77464588941433)\n",
            "Company(name='Berger-Morris', symbol='VTZ', open=142.23668391057677, high=160.39661746546562, low=132.19140086445404, close=160.39661746546562)\n",
            "Company(name='White-Ramirez', symbol='IRP', open=464.7216031000118, high=522.0970354178936, low=337.08605558786167, close=340.2336401064075)\n",
            "Company(name='Hansen, Ortega and Villanueva', symbol='KGO', open=256.27504812128143, high=281.7498689806952, low=249.32582437373333, close=268.0141631073965)\n",
            "Company(name='Lambert, White and Ayers', symbol='RVZ', open=343.8081176190595, high=343.8081176190595, low=265.73774335940715, close=282.7664729948273)\n",
            "Company(name='Hooper Group', symbol='AKS', open=121.85922470753236, high=125.44334231732961, low=103.53180870567024, close=104.82767985026747)\n",
            "Company(name='Smith, Lyons and Mitchell', symbol='YWO', open=312.18230925754233, high=349.936303712266, low=247.9131651066245, close=261.79640394644866)\n",
            "Company(name='Mora-Hunter', symbol='ENF', open=188.44252758468852, high=210.95899871836193, low=172.60995284725442, close=172.60995284725442)\n",
            "Company(name='Combs, Williams and Duarte', symbol='VEZ', open=85.69201814825958, high=88.15993884589919, low=77.63086798375521, close=77.63086798375521)\n",
            "Company(name='Booth PLC', symbol='RJG', open=338.31604638927183, high=354.5773149250372, low=292.7390201593427, close=347.46489394156504)\n",
            "Company(name='Brown, Martin and Bowers', symbol='MJO', open=339.00324562040316, high=339.00324562040316, low=291.5336128820585, close=291.5336128820585)\n",
            "Company(name='Deleon Inc', symbol='VEP', open=113.18916519548542, high=113.18916519548542, low=89.11351300947253, close=89.8318997658534)\n",
            "Company(name='Clark, Gilbert and Thompson', symbol='SEV', open=546.4986184612544, high=564.3886677879696, low=485.6966229197947, close=564.3886677879696)\n",
            "Company(name='Nguyen LLC', symbol='LNF', open=50.25749656190143, high=57.464394706820734, low=43.749153402597045, close=57.464394706820734)\n",
            "Company(name='Parker Inc', symbol='MKV', open=15.590380127220433, high=16.966175805907618, low=12.337754447708193, close=12.909818548758688)\n",
            "Company(name='Morton, Martin and Green', symbol='XLT', open=231.10523002016066, high=253.1006231648479, low=206.10029781443086, close=239.99547506400694)\n",
            "Company(name='Williams Ltd', symbol='NMO', open=40.049565567243576, high=41.88129790401597, low=36.92311037954663, close=36.92311037954663)\n"
          ],
          "name": "stdout"
        }
      ]
    },
    {
      "cell_type": "code",
      "metadata": {
        "id": "BGIaRoeP_W30",
        "outputId": "82bcea93-90ce-4c27-fba1-47c0397e4e02",
        "colab": {
          "base_uri": "https://localhost:8080/",
          "height": 54
        }
      },
      "source": [
        "print(c2)"
      ],
      "execution_count": null,
      "outputs": [
        {
          "output_type": "stream",
          "text": [
            "(Company(name='Stokes Ltd', symbol='TIJ', open=14974.680963883577, high=14974.680963883577, low=12108.534307061751, close=14896.214542426884), Company(name='Gill PLC', symbol='QKW', open=4.3545039604943865, high=4.41920040005122, low=3.22033944725294, close=3.506066317410597), Company(name='White-Shepherd', symbol='MVW', open=238.42079125593946, high=243.49453368242186, low=196.98749212525624, close=196.98749212525624), Company(name='Harris and Sons', symbol='SLF', open=118.88152065104919, high=118.88152065104919, low=91.65311152802143, close=91.65311152802143), Company(name='Cole-Price', symbol='XYS', open=313.11207710908855, high=313.11207710908855, low=260.93535431369355, close=260.93535431369355), Company(name='Mcclain-Chavez', symbol='HMI', open=222.6333889017246, high=222.6333889017246, low=210.18930549316937, close=215.21425192582558), Company(name='Mitchell Group', symbol='SZP', open=298.1431807857767, high=298.1431807857767, low=252.4240216401425, close=252.4240216401425), Company(name='Perez, Wolfe and Hodges', symbol='SHQ', open=583.4690465895634, high=648.3646965654427, low=509.0650351920403, close=528.8115311685665), Company(name='Olson, Wilson and Johnson', symbol='RJX', open=30.53544092569001, high=34.930529953370815, low=25.84002242792313, close=34.930529953370815), Company(name='Perez, Wallace and Bennett', symbol='KYT', open=512.5878627392493, high=517.0372185087053, low=479.423840272928, close=517.0372185087053), Company(name='Smith, Huber and Henry', symbol='VJY', open=35.00675396753834, high=39.665751328060765, low=25.838501590816584, close=28.287113026321432), Company(name='Gross, Browning and Bond', symbol='FOV', open=10.20250079846788, high=10.20250079846788, low=7.407364044100982, close=8.438689766194756), Company(name='Allison, Reynolds and Martin', symbol='WZY', open=440.10298521695756, high=440.10298521695756, low=414.11829114254954, close=436.41663887848665), Company(name='Watson LLC', symbol='CFE', open=20.348745102152, high=21.774497475916785, low=15.162618575719994, close=20.242459630355835), Company(name='Mcpherson, Fowler and Huff', symbol='ZWM', open=742.7224915850018, high=851.2860211043554, low=655.4932223616538, close=851.2860211043554), Company(name='Montoya-Bell', symbol='CEU', open=80.22592891746635, high=80.22592891746635, low=78.87518937352813, close=80.17185454066971), Company(name='Myers-Gardner', symbol='DHA', open=499.10098421342155, high=542.2540064078836, low=485.2541615345629, close=540.3213248316957), Company(name='Johnson LLC', symbol='TVE', open=89.07610186622588, high=91.17539460527321, low=65.79768553381963, close=91.17539460527321), Company(name='Perez-Obrien', symbol='ZXT', open=518.6006208149855, high=573.5102667238547, low=416.0233034565995, close=416.0552581556419), Company(name='Blackburn and Sons', symbol='JKO', open=198.71271698797995, high=225.9617815741037, low=139.26149154105306, close=139.26149154105306), Company(name='Wright PLC', symbol='TAW', open=58.177633811372566, high=61.804224091544455, low=49.39721618525389, close=61.804224091544455), Company(name='Cole-Meyer', symbol='EOG', open=480.71447116381285, high=504.1429061641018, low=455.7427071145783, close=497.7038701820676), Company(name='Romero and Sons', symbol='MIF', open=141.82333871363852, high=142.43736286545976, low=103.92287522592711, close=136.68780603889806), Company(name='Carrillo, Wells and Silva', symbol='RDF', open=95.47848599364859, high=98.97357732981607, low=85.5359491921185, close=89.2252075606077), Company(name='Weaver-Bates', symbol='KCT', open=165.1403764345466, high=171.93493761523897, low=126.23473934814183, close=126.23473934814183), Company(name='Richard-Tate', symbol='FEG', open=11.679930674748773, high=12.754578662268132, low=10.647261360668185, close=12.754578662268132), Company(name='Murphy, Taylor and Mejia', symbol='RYQ', open=34.421618064271335, high=37.494651432595, low=29.801867283113985, close=37.494651432595), Company(name='Cabrera Ltd', symbol='CZN', open=322.50592185500636, high=369.8942428713357, low=233.38262993951437, close=323.77894088040085), Company(name='Brady, Price and White', symbol='RNB', open=350.2157661135953, high=350.2157661135953, low=303.2994765286111, close=303.2994765286111), Company(name='Carroll-Heath', symbol='FPB', open=456.72684119332365, high=456.72684119332365, low=379.01313324033225, close=379.01313324033225), Company(name='Martin-Gray', symbol='RAH', open=276.1202333968281, high=310.3771476256084, low=195.26572399926863, close=267.16044878615406), Company(name='Carpenter LLC', symbol='PHQ', open=405.5272097376226, high=405.5272097376226, low=290.163757037233, close=294.11041644320414), Company(name='Wood-Leonard', symbol='VDP', open=29.069459134859233, high=29.91165264703952, low=21.628244853111646, close=28.669356042605003), Company(name='Nguyen-Black', symbol='SXO', open=364.7400334014849, high=381.53839258523766, low=306.1588548016968, close=381.53839258523766), Company(name='Lambert Inc', symbol='GOQ', open=112.30251765175692, high=112.30251765175692, low=99.43646669169935, close=107.7424954309772), Company(name='Pollard-Murphy', symbol='ZDL', open=52.32462363533318, high=52.32462363533318, low=38.95930374902826, close=38.95930374902826), Company(name='Cohen, Duke and Dudley', symbol='UKG', open=82.43563858771796, high=89.32628535920011, low=75.02107829427555, close=81.80135214023754), Company(name='Green-Bell', symbol='PUZ', open=211.75141378622877, high=217.09060141204668, low=185.36841264712632, close=185.36841264712632), Company(name='Brock LLC', symbol='PMJ', open=203.89367000671845, high=203.89367000671845, low=151.3070916910433, close=182.86367346975862), Company(name='Solis-Page', symbol='KVS', open=333.82379716626343, high=369.8588289314181, low=256.78358661204453, close=298.5063037416579), Company(name='Martinez Inc', symbol='PRH', open=413.10986861425755, high=462.7830715402665, low=298.4239803268543, close=462.7830715402665), Company(name='Clark-Gutierrez', symbol='RPF', open=273.4600069766349, high=291.47556541261395, low=222.58947885309155, close=255.8226190022549), Company(name='Johnson, Coleman and Gutierrez', symbol='MWT', open=344.18594157589126, high=344.18594157589126, low=259.73840807145024, close=259.73840807145024), Company(name='White LLC', symbol='AQU', open=18.08941794707411, high=19.357385195753185, low=14.025821545959886, close=19.357385195753185), Company(name='Bailey-Morris', symbol='PUV', open=115.74455338208398, high=132.62980803486712, low=88.96371368316093, close=126.37954370800132), Company(name='Wright-Foster', symbol='SFB', open=149.94486972097457, high=149.94486972097457, low=105.4570395038215, close=105.4570395038215), Company(name='Ferrell-Weeks', symbol='ZPL', open=112.15115240320488, high=121.67844150037985, low=93.9765801699981, close=110.40279253615178), Company(name='Leach-Smith', symbol='TRU', open=327.2508695059902, high=327.2508695059902, low=268.1627249782362, close=302.2428731130251), Company(name='Strong, Goodman and Holder', symbol='PVH', open=76.39150249053107, high=76.39150249053107, low=69.04086954436684, close=69.04086954436684), Company(name='Rodriguez Group', symbol='CEW', open=667.7657703010725, high=684.1191913544108, low=510.7062656042447, close=510.7062656042447), Company(name='Lamb, Vance and Martinez', symbol='VQA', open=230.49468807435096, high=230.49468807435096, low=183.26287216951445, close=183.26287216951445), Company(name='Smith LLC', symbol='MWB', open=288.18522003853235, high=312.45648727776717, low=206.40121616070473, close=206.40121616070473), Company(name='Arellano, Price and Clayton', symbol='QSW', open=321.22275319640306, high=321.22275319640306, low=251.80447076243095, close=288.3977378533904), Company(name='Hall LLC', symbol='ZHR', open=54.93929208171384, high=57.77081821305069, low=53.916770965144444, close=57.77081821305069), Company(name='White, Bautista and Pope', symbol='VHS', open=678.6235811980982, high=687.7349609220793, low=506.47893475582293, close=506.47893475582293), Company(name='Hogan, Harper and Ewing', symbol='ZPH', open=37.250632000510926, high=41.04008516807855, low=31.139069610440238, close=41.04008516807855), Company(name='Walker-Frye', symbol='JAB', open=180.03528053622838, high=198.28890744750953, low=133.2187504147237, close=198.28890744750953), Company(name='Wiggins PLC', symbol='TLF', open=183.58134257221445, high=208.96556057606793, low=164.96282343159297, close=164.96282343159297), Company(name='Maynard, Martin and Hughes', symbol='QBI', open=287.64591280732986, high=330.587058577953, low=230.94834845788972, close=308.3835036627997), Company(name='Mason LLC', symbol='FGV', open=337.51966115398056, high=364.9521675423268, low=302.14306590907046, close=364.9521675423268), Company(name='Gray LLC', symbol='LQW', open=298.45378196108356, high=325.5959471042694, low=228.67039239648895, close=325.5959471042694), Company(name='Henderson, Conley and Ellis', symbol='XQN', open=36.452198671555195, high=36.452198671555195, low=27.864208803796956, close=33.06627209516436), Company(name='Kelly-Thomas', symbol='GHR', open=33.43856205133401, high=36.19365593467866, low=25.926583931741444, close=36.19365593467866), Company(name='Patrick LLC', symbol='IFW', open=215.93378055299877, high=239.63707259697884, low=163.00371065003645, close=239.63707259697884), Company(name='Miller-Reynolds', symbol='VJZ', open=279.7309807378791, high=301.44245119224286, low=248.36333346262325, close=248.36333346262325), Company(name='Boyd-Anderson', symbol='OXY', open=66.99845785803178, high=67.3697709261685, low=57.368498292083174, close=57.368498292083174), Company(name='Williams, Mason and Pope', symbol='MNE', open=178.13761376694353, high=178.13761376694353, low=132.97333667151375, close=155.58316234006116), Company(name='Nguyen, Hudson and Walls', symbol='EBW', open=608.7556414404525, high=608.7556414404525, low=514.9651133540881, close=572.3833034340428), Company(name='Cox, Gomez and Gould', symbol='QKH', open=680.2692159849759, high=704.0550325516363, low=612.911330471654, close=704.0550325516363), Company(name='Smith-Adams', symbol='JHT', open=130.1146137825655, high=147.8207550244673, low=98.03249760862516, close=147.8207550244673), Company(name='Boyer Group', symbol='IDR', open=719.7961545090294, high=776.8819539117701, low=544.1188061578317, close=544.1188061578317), Company(name='Brown-Clark', symbol='CKL', open=67.424828886474, high=67.74140814997897, low=49.71625484296816, close=67.42528652361922), Company(name='Barton Ltd', symbol='XTW', open=337.3867141980268, high=361.5193923829196, low=307.88156167378037, close=361.5193923829196), Company(name='Reyes-Miller', symbol='SQZ', open=883.6806774438653, high=883.6806774438653, low=637.3238652116787, close=864.7468947680743), Company(name='Savage-Frey', symbol='UBV', open=631.2511754585518, high=631.2511754585518, low=480.4177274146652, close=480.4177274146652), Company(name='Miller, Park and Castaneda', symbol='BNZ', open=92.9811010889602, high=103.18683808474823, low=78.45108006778185, close=93.70533306122033), Company(name='Park Group', symbol='EDQ', open=444.1609337789958, high=503.599109524602, low=324.4429401680107, close=396.9264424131074), Company(name='Sanders PLC', symbol='KDT', open=400.07299111672086, high=400.6705248068966, low=371.10917778222597, close=400.6705248068966), Company(name='Brown Inc', symbol='UGY', open=93.76351261645381, high=97.75728314630729, low=79.12027510850938, close=79.12027510850938), Company(name='Hill LLC', symbol='ZKY', open=34.179953226179606, high=36.86844781805403, low=31.143721317147925, close=36.86844781805403), Company(name='Gonzalez, Alvarez and Huerta', symbol='HMX', open=70.40310998238652, high=76.17031694175512, low=51.08961342839809, close=68.62617803094109), Company(name='Luna, Price and Hobbs', symbol='KFQ', open=472.65258501307994, high=493.99811802188145, low=353.02755259563503, close=353.02755259563503), Company(name='Neal, Williams and Perez', symbol='GPX', open=72.57868433643672, high=75.28929579868559, low=59.4337808652439, close=75.28929579868559), Company(name='Abbott, Bridges and Gonzalez', symbol='NWY', open=197.24336941633644, high=197.24336941633644, low=164.6205666053318, close=184.77464588941433), Company(name='Berger-Morris', symbol='VTZ', open=142.23668391057677, high=160.39661746546562, low=132.19140086445404, close=160.39661746546562), Company(name='White-Ramirez', symbol='IRP', open=464.7216031000118, high=522.0970354178936, low=337.08605558786167, close=340.2336401064075), Company(name='Hansen, Ortega and Villanueva', symbol='KGO', open=256.27504812128143, high=281.7498689806952, low=249.32582437373333, close=268.0141631073965), Company(name='Lambert, White and Ayers', symbol='RVZ', open=343.8081176190595, high=343.8081176190595, low=265.73774335940715, close=282.7664729948273), Company(name='Hooper Group', symbol='AKS', open=121.85922470753236, high=125.44334231732961, low=103.53180870567024, close=104.82767985026747), Company(name='Smith, Lyons and Mitchell', symbol='YWO', open=312.18230925754233, high=349.936303712266, low=247.9131651066245, close=261.79640394644866), Company(name='Mora-Hunter', symbol='ENF', open=188.44252758468852, high=210.95899871836193, low=172.60995284725442, close=172.60995284725442), Company(name='Combs, Williams and Duarte', symbol='VEZ', open=85.69201814825958, high=88.15993884589919, low=77.63086798375521, close=77.63086798375521), Company(name='Booth PLC', symbol='RJG', open=338.31604638927183, high=354.5773149250372, low=292.7390201593427, close=347.46489394156504), Company(name='Brown, Martin and Bowers', symbol='MJO', open=339.00324562040316, high=339.00324562040316, low=291.5336128820585, close=291.5336128820585), Company(name='Deleon Inc', symbol='VEP', open=113.18916519548542, high=113.18916519548542, low=89.11351300947253, close=89.8318997658534), Company(name='Clark, Gilbert and Thompson', symbol='SEV', open=546.4986184612544, high=564.3886677879696, low=485.6966229197947, close=564.3886677879696), Company(name='Nguyen LLC', symbol='LNF', open=50.25749656190143, high=57.464394706820734, low=43.749153402597045, close=57.464394706820734), Company(name='Parker Inc', symbol='MKV', open=15.590380127220433, high=16.966175805907618, low=12.337754447708193, close=12.909818548758688), Company(name='Morton, Martin and Green', symbol='XLT', open=231.10523002016066, high=253.1006231648479, low=206.10029781443086, close=239.99547506400694), Company(name='Williams Ltd', symbol='NMO', open=40.049565567243576, high=41.88129790401597, low=36.92311037954663, close=36.92311037954663))\n"
          ],
          "name": "stdout"
        }
      ]
    },
    {
      "cell_type": "code",
      "metadata": {
        "id": "mdk9-LQ03CIX",
        "outputId": "d100cfc7-75a1-45a7-aee1-0c911ab2eb26",
        "colab": {
          "base_uri": "https://localhost:8080/",
          "height": 85
        }
      },
      "source": [
        "print(\"Open:\",sum(map(lambda v : v[2],c2))/len(c2))\n",
        "print(\"high:\",sum(map(lambda v : v[3],c2))/len(c2))\n",
        "print(\"low:\",sum(map(lambda v : v[4],c2))/len(c2))\n",
        "print(\"Close:\",sum(map(lambda v : v[5],c2))/len(c2))\n"
      ],
      "execution_count": null,
      "outputs": [
        {
          "output_type": "stream",
          "text": [
            "Open: 398.5247182164343\n",
            "high: 411.6815575415528\n",
            "low: 325.2013207209546\n",
            "Close: 378.2204859019749\n"
          ],
          "name": "stdout"
        }
      ]
    },
    {
      "cell_type": "code",
      "metadata": {
        "id": "PsF7ij0LJuVW",
        "outputId": "32af3679-8c08-40f4-ac21-30374f60d7e7",
        "colab": {
          "base_uri": "https://localhost:8080/",
          "height": 34
        }
      },
      "source": [
        "print(len(c2),len(r2))"
      ],
      "execution_count": null,
      "outputs": [
        {
          "output_type": "stream",
          "text": [
            "100 100\n"
          ],
          "name": "stdout"
        }
      ]
    },
    {
      "cell_type": "code",
      "metadata": {
        "id": "OD5U5mftJ7J9",
        "outputId": "94497928-a07f-46ee-da20-0a059256e17a",
        "colab": {
          "base_uri": "https://localhost:8080/",
          "height": 71
        }
      },
      "source": [
        "print(r2[0],r2[99])\n",
        "print(c2[99])"
      ],
      "execution_count": null,
      "outputs": [
        {
          "output_type": "stream",
          "text": [
            "0.01650359318099455 0.006693893626482296\n",
            "Company(name='Williams Ltd', symbol='NMO', open=40.049565567243576, high=41.88129790401597, low=36.92311037954663, close=36.92311037954663)\n"
          ],
          "name": "stdout"
        }
      ]
    },
    {
      "cell_type": "code",
      "metadata": {
        "id": "Ge01POBUDixQ",
        "outputId": "f73756bf-a112-4695-e2fe-cc8e817c62e5",
        "colab": {
          "base_uri": "https://localhost:8080/",
          "height": 255
        }
      },
      "source": [
        "mydf =  pd.DataFrame(columns = ['Name','Open','High','Low','Close','Weight'])\n",
        "counter = 0\n",
        "for i in range(len(c2)):\n",
        "  mydf = mydf.append({'Name':c2[i].name,'Open':c2[i].open,'High':c2[i].high,'Low':c2[i].low,'Close':c2[i].close,'Weight':r2[i]},ignore_index=True)\n",
        "  counter += 1\n",
        "  # print(i)\n",
        "  # print('Weight',r2[counter],counter)\n",
        "  # print(i.name)\n",
        "print(mydf)"
      ],
      "execution_count": null,
      "outputs": [
        {
          "output_type": "stream",
          "text": [
            "                           Name          Open  ...         Close    Weight\n",
            "0                    Stokes Ltd  14974.680964  ...  14896.214542  0.016504\n",
            "1                      Gill PLC      4.354504  ...      3.506066  0.000191\n",
            "2                White-Shepherd    238.420791  ...    196.987492  0.010629\n",
            "3               Harris and Sons    118.881521  ...     91.653112  0.002892\n",
            "4                    Cole-Price    313.112077  ...    260.935354  0.013543\n",
            "..                          ...           ...  ...           ...       ...\n",
            "95  Clark, Gilbert and Thompson    546.498618  ...    564.388668  0.014425\n",
            "96                   Nguyen LLC     50.257497  ...     57.464395  0.001324\n",
            "97                   Parker Inc     15.590380  ...     12.909819  0.000459\n",
            "98     Morton, Martin and Green    231.105230  ...    239.995475  0.009055\n",
            "99                 Williams Ltd     40.049566  ...     36.923110  0.006694\n",
            "\n",
            "[100 rows x 6 columns]\n"
          ],
          "name": "stdout"
        }
      ]
    },
    {
      "cell_type": "code",
      "metadata": {
        "id": "E7dPD0g3ISSK"
      },
      "source": [
        "mydf.to_excel('TSAI_stocks.xlsx')"
      ],
      "execution_count": null,
      "outputs": []
    },
    {
      "cell_type": "code",
      "metadata": {
        "id": "7ZEBYAfQKfHc"
      },
      "source": [
        ""
      ],
      "execution_count": null,
      "outputs": []
    }
  ]
}