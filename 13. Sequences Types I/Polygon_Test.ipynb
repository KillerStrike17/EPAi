{
 "cells": [
  {
   "cell_type": "code",
   "execution_count": 1,
   "metadata": {},
   "outputs": [],
   "source": [
    "from polygon import Polygon"
   ]
  },
  {
   "cell_type": "markdown",
   "metadata": {},
   "source": [
    "## Testing Module 1"
   ]
  },
  {
   "cell_type": "code",
   "execution_count": 2,
   "metadata": {},
   "outputs": [
    {
     "data": {
      "text/plain": [
       "Polygon with 4 sides and 10 as Circumradius"
      ]
     },
     "execution_count": 2,
     "metadata": {},
     "output_type": "execute_result"
    }
   ],
   "source": [
    "p1 = Polygon(4,10)\n",
    "p1"
   ]
  },
  {
   "cell_type": "code",
   "execution_count": 3,
   "metadata": {},
   "outputs": [
    {
     "name": "stdout",
     "output_type": "stream",
     "text": [
      "No of Vertices: 4,\n",
      "No of Circumradius: 10,\n",
      "Interior Angle: 0.044444444444444446,\n",
      "Apothem: 7.0710678118654755,\n",
      "Area: 200.00000000000003,\n",
      "Perimeter: 56.568542494923804\n"
     ]
    }
   ],
   "source": [
    "print(f\"No of Vertices: {p1.no_edges},\\nNo of Circumradius: {p1.circumradius},\\nInterior Angle: {p1.interior_angle},\\nApothem: {p1.apothem},\\nArea: {p1.area},\\nPerimeter: {p1.perimeter}\")"
   ]
  },
  {
   "cell_type": "code",
   "execution_count": 4,
   "metadata": {},
   "outputs": [
    {
     "name": "stdout",
     "output_type": "stream",
     "text": [
      "False False\n",
      "False False\n",
      "True True\n"
     ]
    }
   ],
   "source": [
    "p2 = Polygon(5,10)\n",
    "print(p1.__eq__(p2),p1==p2)\n",
    "print(p1.__gt__(p2),p1>p2)\n",
    "print(p2.__gt__(p1),p2>p1)"
   ]
  },
  {
   "cell_type": "code",
   "execution_count": 5,
   "metadata": {},
   "outputs": [
    {
     "name": "stdout",
     "output_type": "stream",
     "text": [
      "True True\n",
      "False False\n",
      "False False\n"
     ]
    }
   ],
   "source": [
    "p2 = Polygon(4,10)\n",
    "print(p1.__eq__(p2),p1==p2)\n",
    "print(p1.__gt__(p2),p1>p2)\n",
    "print(p2.__gt__(p1),p2>p1)"
   ]
  },
  {
   "cell_type": "code",
   "execution_count": 6,
   "metadata": {},
   "outputs": [
    {
     "name": "stdout",
     "output_type": "stream",
     "text": [
      "False False\n",
      "True True\n",
      "False False\n"
     ]
    }
   ],
   "source": [
    "p2 = Polygon(3,10)\n",
    "print(p1.__eq__(p2),p1==p2)\n",
    "print(p1.__gt__(p2),p1>p2)\n",
    "print(p2.__gt__(p1),p2>p1)"
   ]
  },
  {
   "cell_type": "markdown",
   "metadata": {},
   "source": [
    "## Testing Module 2"
   ]
  },
  {
   "cell_type": "code",
   "execution_count": 7,
   "metadata": {},
   "outputs": [],
   "source": [
    "from polygon_sequence import Polygon_seq"
   ]
  },
  {
   "cell_type": "code",
   "execution_count": 8,
   "metadata": {},
   "outputs": [
    {
     "data": {
      "text/plain": [
       "Total 30 Polygons with circumradius as 4\n",
       " Empty Dictionary"
      ]
     },
     "execution_count": 8,
     "metadata": {},
     "output_type": "execute_result"
    }
   ],
   "source": [
    "ps1 = Polygon_seq(30,4)\n",
    "ps1"
   ]
  },
  {
   "cell_type": "code",
   "execution_count": 9,
   "metadata": {},
   "outputs": [
    {
     "data": {
      "text/plain": [
       "'Max Ratio is 1.9882759143087192 at vertex 30'"
      ]
     },
     "execution_count": 9,
     "metadata": {},
     "output_type": "execute_result"
    }
   ],
   "source": [
    "ps1.max_efficieny"
   ]
  },
  {
   "cell_type": "code",
   "execution_count": 10,
   "metadata": {
    "scrolled": true
   },
   "outputs": [
    {
     "data": {
      "text/plain": [
       "Total 30 Polygons with circumradius as 4\n",
       " 3:1.2246467991473532e-16\n",
       "4:1.0000000000000002\n",
       "5:1.4142135623730954\n",
       "6:1.618033988749895\n",
       "7:1.7320508075688776\n",
       "8:1.8019377358048383\n",
       "9:1.8477590650225737\n",
       "10:1.879385241571817\n",
       "11:1.9021130325903068\n",
       "12:1.9189859472289947\n",
       "13:1.9318516525781364\n",
       "14:1.9418836348521042\n",
       "15:1.9498558243636472\n",
       "16:1.9562952014676114\n",
       "17:1.9615705608064609\n",
       "18:1.9659461993678038\n",
       "19:1.9696155060244158\n",
       "20:1.9727226068054446\n",
       "21:1.9753766811902758\n",
       "22:1.977661652450257\n",
       "23:1.9796428837618654\n",
       "24:1.9813718920726617\n",
       "25:1.982889722747621\n",
       "26:1.9842294026289558\n",
       "27:1.9854177481961075\n",
       "28:1.986476715483886\n",
       "29:1.9874244197864852\n",
       "30:1.9882759143087192"
      ]
     },
     "execution_count": 10,
     "metadata": {},
     "output_type": "execute_result"
    }
   ],
   "source": [
    "ps1"
   ]
  },
  {
   "cell_type": "code",
   "execution_count": null,
   "metadata": {},
   "outputs": [],
   "source": []
  }
 ],
 "metadata": {
  "kernelspec": {
   "display_name": "Python 3",
   "language": "python",
   "name": "python3"
  },
  "language_info": {
   "codemirror_mode": {
    "name": "ipython",
    "version": 3
   },
   "file_extension": ".py",
   "mimetype": "text/x-python",
   "name": "python",
   "nbconvert_exporter": "python",
   "pygments_lexer": "ipython3",
   "version": "3.8.3"
  }
 },
 "nbformat": 4,
 "nbformat_minor": 4
}
